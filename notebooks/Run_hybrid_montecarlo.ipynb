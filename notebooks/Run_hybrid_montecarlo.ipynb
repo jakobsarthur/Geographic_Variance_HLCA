{
 "cells": [
  {
   "cell_type": "code",
   "execution_count": 1,
   "metadata": {},
   "outputs": [],
   "source": [
    "import sys\n",
    "import os\n",
    "\n",
    "#add paths\n",
    "sys.path.append(os.path.realpath('../'))\n",
    "import hybrid_lcaio\n",
    "import run_hybrid_MC as mc\n",
    "\n",
    "# the following needs to be set in order for the ray workers to also recognise the path above\n",
    "os.environ['PYTHONPATH'] = os.path.realpath('../')\n",
    "\n",
    "\n",
    "# from importlib import reload\n",
    "# reload(mc)\n",
    "# import gc\n",
    "# import psutil\n"
   ]
  },
  {
   "cell_type": "code",
   "execution_count": 13,
   "metadata": {},
   "outputs": [],
   "source": [
    "# Define MC parameters\n",
    "MC_par_dic = {\n",
    "    'N_runs' : 10,                                                                    \n",
    "    'constant_price' : False,                                                           \n",
    "    'use_ecoinvent_price' : False, # this overrides the constant price flag             \n",
    "    'constant_region_var_price' : False, # this overrides the above two flags                                                                \n",
    "    'FU' : None,\n",
    "    'indices' : [5,31] # these are the indices of the calculated impacts\n",
    "    }\n",
    "\n",
    "# Define paths, etc\n",
    "double_counting_method = 'binary'                                                \n",
    "exiobase_version = '3_8_2'                                                       \n",
    "ecoinvent_version = '3_8'\n",
    "N_cores = 2\n",
    "Database_dir = '/home/jakobs/Documents/IndEcol/OASES/EuropeanConsumptionFootprint/Databases/'\n",
    "lcaio_object_path = os.path.join(Database_dir,'plcaio_object_STAM_saved_both_strategies_True_ecoinvent_3_8_EXIOBASE_3_8_2.pickle')\n",
    "directory_baci_price_data = os.path.join(Database_dir,'price_data_per_region/2015/')\n",
    "# C_io_path = '/home/jakobs/Documents/IndEcol/Data/EXIOBASE/exiobase3_6/Characterization_EB36.xlsx'\n",
    "price_data_feather_file = os.path.join(Database_dir,'price_dataframe_ecoinvent_3_8_2015_regionally_aggregated.ftr')\n",
    "results_file_path = '/home/jakobs/Documents/IndEcol/OASES/EuropeanConsumptionFootprint/Databases/Impacts_Hybrid_MC_ecoinvent_3_8_exiobase_3_8_2_double_counting_correction_binary.hdf5'\n",
    "hdb_object_file_name = os.path.join(Database_dir,'HDB_ecoinvent_{}_exiobase_{}.pickle'.format(ecoinvent_version, exiobase_version))"
   ]
  },
  {
   "cell_type": "code",
   "execution_count": 3,
   "metadata": {},
   "outputs": [
    {
     "name": "stdout",
     "output_type": "stream",
     "text": [
      "loading Hybrid Database Object...\n",
      "CPU times: user 1.25 s, sys: 4.73 s, total: 5.98 s\n",
      "Wall time: 6.83 s\n"
     ]
    }
   ],
   "source": [
    "%%time\n",
    "# Read in data and initialise/read in hybrid object\n",
    "hdb, hdb_object_file_name = mc.initiate_hdb(exiobase_version=exiobase_version,\n",
    "                ecoinvent_version=ecoinvent_version,\n",
    "                Database_dir=Database_dir,\n",
    "                lcaio_object_path=lcaio_object_path,\n",
    "                hdb_object_file_name=hdb_object_file_name\n",
    "                )"
   ]
  },
  {
   "cell_type": "code",
   "execution_count": 4,
   "metadata": {},
   "outputs": [
    {
     "name": "stdout",
     "output_type": "stream",
     "text": [
      "Results will be saved in /home/jakobs/Documents/IndEcol/OASES/EuropeanConsumptionFootprint/Databases/Impacts_Hybrid_MC_ecoinvent_3_8_exiobase_3_8_2_double_counting_correction_binary.hdf5\n",
      "You are about to overwrite the file /home/jakobs/Documents/IndEcol/OASES/EuropeanConsumptionFootprint/Databases/Impacts_Hybrid_MC_ecoinvent_3_8_exiobase_3_8_2_double_counting_correction_binary.hdf5\n"
     ]
    },
    {
     "name": "stdin",
     "output_type": "stream",
     "text": [
      "Do you want to do this? Y/N   y\n"
     ]
    },
    {
     "name": "stdout",
     "output_type": "stream",
     "text": [
      "Will overwrite file /home/jakobs/Documents/IndEcol/OASES/EuropeanConsumptionFootprint/Databases/Impacts_Hybrid_MC_ecoinvent_3_8_exiobase_3_8_2_double_counting_correction_binary.hdf5\n",
      "Building price dictionary...\n",
      "Initialising the results hdf5 file...\n",
      "CPU times: user 5.83 s, sys: 1.04 s, total: 6.86 s\n",
      "Wall time: 9.44 s\n"
     ]
    }
   ],
   "source": [
    "%%time\n",
    "# Prepare MC, building necessary dictionaries, loading some more data if necessary\n",
    "mc.prepare_calculations(hdb,\n",
    "                        MC_par_dic=MC_par_dic,\n",
    "                        double_counting_method=double_counting_method,\n",
    "                        # results_file_path=results_file_path,\n",
    "                        directory_baci_price_data=directory_baci_price_data,\n",
    "                        price_data_feather_file=price_data_feather_file\n",
    "                        )"
   ]
  },
  {
   "cell_type": "code",
   "execution_count": null,
   "metadata": {},
   "outputs": [
    {
     "name": "stdout",
     "output_type": "stream",
     "text": [
      "initialising Ray...\n"
     ]
    },
    {
     "name": "stderr",
     "output_type": "stream",
     "text": [
      "2022-11-14 10:36:00,253\tINFO services.py:1252 -- View the Ray dashboard at \u001b[1m\u001b[32mhttp://127.0.0.1:8265\u001b[39m\u001b[22m\n"
     ]
    },
    {
     "name": "stdout",
     "output_type": "stream",
     "text": [
      "Serialising hybrid database...\n",
      "Calculating results...\n",
      "\u001b[2m\u001b[36m(MC_footprint_ray pid=285241)\u001b[0m Run 0 of 10. Mon Nov 14 10:36:13 2022\n"
     ]
    }
   ],
   "source": [
    "%%time\n",
    "# Now run MC!\n",
    "mc.run_monte_carlo(hdb,\n",
    "                   MC_par_dic=MC_par_dic,\n",
    "                   results_file_path=results_file_path,\n",
    "                   N_cores=N_cores,\n",
    "                   hdb_object_file_name=hdb_object_file_name\n",
    "                   )"
   ]
  },
  {
   "cell_type": "code",
   "execution_count": null,
   "metadata": {},
   "outputs": [],
   "source": []
  }
 ],
 "metadata": {
  "kernelspec": {
   "display_name": "Python [conda env:pylcaio_paradiso]",
   "language": "python",
   "name": "conda-env-pylcaio_paradiso-py"
  },
  "language_info": {
   "codemirror_mode": {
    "name": "ipython",
    "version": 3
   },
   "file_extension": ".py",
   "mimetype": "text/x-python",
   "name": "python",
   "nbconvert_exporter": "python",
   "pygments_lexer": "ipython3",
   "version": "3.7.3"
  }
 },
 "nbformat": 4,
 "nbformat_minor": 4
}
