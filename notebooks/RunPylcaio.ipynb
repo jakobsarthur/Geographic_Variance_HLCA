{
 "cells": [
  {
   "cell_type": "code",
   "execution_count": 1,
   "metadata": {},
   "outputs": [],
   "source": [
    "import pandas as pd\n",
    "import numpy as np\n",
    "\n",
    "import sys\n",
    "sys.path.append('/home/jakobs/Documents/IndEcol/OASES/ecospold2matrix/')\n",
    "sys.path.append('/home/jakobs/Documents/IndEcol/OASES/pymrio/')\n",
    "sys.path.append('/home/jakobs/Documents/IndEcol/OASES/pylcaio/src/')\n",
    "import ecospold2matrix as e2m\n",
    "import pymrio\n",
    "import pylcaio\n",
    "\n",
    "import os\n",
    "import gzip\n",
    "import pickle\n",
    "import pandas as pd\n",
    "import itertools\n",
    "\n",
    "# from importlib import reload\n",
    "# import pdb\n",
    "import scipy.sparse"
   ]
  },
  {
   "cell_type": "markdown",
   "metadata": {},
   "source": [
    "## Prepare Ecoinvent data with ecospold2matrix"
   ]
  },
  {
   "cell_type": "code",
   "execution_count": null,
   "metadata": {
    "scrolled": true
   },
   "outputs": [],
   "source": [
    "# %%time\n",
    "\n",
    "# #run ecospold2matrix\n",
    "# ecospold_dir = '/home/jakobs/Documents/IndEcol/Data/ecoinvent/ecoinvent 3.5_cutoff_ecoSpold02/'\n",
    "# project_name = 'ecoinvent_35_cutoff'\n",
    "# out_dir = '/home/jakobs/Documents/IndEcol/Data/ecospold2matrix_matrices/'\n",
    "\n",
    "# parser = e2m.Ecospold2Matrix(ecospold_dir, project_name, out_dir, positive_waste=True, nan2null=True,\n",
    "#                             characterisation_file=\n",
    "#         '/home/jakobs/data/ecoinvent/ecoinvent 3.5_LCIA_implementation/LCIA_implementation_3.5.xlsx', )\n",
    "# parser.ecospold_to_Leontief(fileformats='Pandas',with_absolute_flows=False)"
   ]
  },
  {
   "cell_type": "markdown",
   "metadata": {},
   "source": [
    "## Load ecoinvent pickle files"
   ]
  },
  {
   "cell_type": "code",
   "execution_count": 2,
   "metadata": {},
   "outputs": [
    {
     "name": "stdout",
     "output_type": "stream",
     "text": [
      "CPU times: user 7.78 s, sys: 440 ms, total: 8.22 s\n",
      "Wall time: 8.23 s\n"
     ]
    }
   ],
   "source": [
    "%%time\n",
    "with gzip.open('/home/jakobs/Documents/IndEcol/Data/ecospold2matrix_matrices/ecoinvent_35_cutoffPandas_symmNorm.gz.pickle','rb') as f:\n",
    "    ecoinvent = pd.read_pickle(f)"
   ]
  },
  {
   "cell_type": "markdown",
   "metadata": {},
   "source": [
    "### Imput missing ecoinvent price data\n",
    "Ecospold2matrix seems to have a bug and not extract all price data. However, the datasheets in filter.xlsx contains the actual ecoinvent prices for the processes so manually imput them into the PRO dataframe"
   ]
  },
  {
   "cell_type": "code",
   "execution_count": 3,
   "metadata": {},
   "outputs": [
    {
     "name": "stdout",
     "output_type": "stream",
     "text": [
      "Hybridized\n",
      "Market\n",
      "Not commercialized\n",
      "Poor quality\n",
      "Empty processes\n",
      "Uncovered geography\n"
     ]
    }
   ],
   "source": [
    "file =  pd.ExcelFile('/home/jakobs/Documents/IndEcol/OASES/pylcaio/src/Data/eco3.5_exio3/Filter.xlsx')\n",
    "sheetnames = file.sheet_names\n",
    "\n",
    "for sheet_name in sheetnames:\n",
    "    if not sheet_name == 'No price':\n",
    "        print(sheet_name)\n",
    "        sheet = file.parse(sheet_name, index_col=0)\n",
    "        #find UUID of those processes that do not have a price (NaN)\n",
    "        indices = list(set(ecoinvent['PRO'].loc[ecoinvent['PRO'].price.isnull()].index.tolist()).intersection(\n",
    "                  sheet.index.tolist()))\n",
    "        ecoinvent['PRO'].loc[indices, 'price'] = sheet.loc[indices, 'Price']\n",
    "        ecoinvent['PRO'].loc[indices, 'priceUnit'] = 'EUR2005'"
   ]
  },
  {
   "cell_type": "markdown",
   "metadata": {},
   "source": [
    "## Load Exiobase into a Dataframe with pymrio"
   ]
  },
  {
   "cell_type": "code",
   "execution_count": null,
   "metadata": {},
   "outputs": [],
   "source": []
  },
  {
   "cell_type": "code",
   "execution_count": 4,
   "metadata": {},
   "outputs": [
    {
     "name": "stdout",
     "output_type": "stream",
     "text": [
      "CPU times: user 35 s, sys: 924 ms, total: 36 s\n",
      "Wall time: 36.2 s\n"
     ]
    }
   ],
   "source": [
    "%%time\n",
    "EXIOBASE_path = '/home/jakobs/Documents/IndEcol/Data/EXIOBASE/exiobase3_6/IOT_2012_pxp'\n",
    "io = pymrio.parse_exiobase3(EXIOBASE_path)"
   ]
  },
  {
   "cell_type": "code",
   "execution_count": null,
   "metadata": {},
   "outputs": [],
   "source": [
    "# path_to_capital_matrix = '/home/jakobs/Documents/IndEcol/Data/EXIOBASE/exiobase3_6/capital consumption matrices/Kbar_exio_v3_6_2012pxp.mat'"
   ]
  },
  {
   "cell_type": "markdown",
   "metadata": {},
   "source": [
    "## Load aggregation dictionary"
   ]
  },
  {
   "cell_type": "code",
   "execution_count": null,
   "metadata": {},
   "outputs": [],
   "source": [
    "# agg_dic = Aggregation_dic_from_file(os.path.join(os.path.dirname(os.path.dirname(EXIOBASE_path)),'Product_Country_aggregation.xlsx'))"
   ]
  },
  {
   "cell_type": "markdown",
   "metadata": {},
   "source": [
    "## Read in data with pylcaio"
   ]
  },
  {
   "cell_type": "code",
   "execution_count": 5,
   "metadata": {},
   "outputs": [
    {
     "name": "stdout",
     "output_type": "stream",
     "text": [
      "CPU times: user 11.8 ms, sys: 124 µs, total: 11.9 ms\n",
      "Wall time: 5.79 ms\n"
     ]
    }
   ],
   "source": [
    "%%time\n",
    "database_loader = pylcaio.DatabaseLoader(ecoinvent, io, 'ecoinvent3.5', 'exiobase3')"
   ]
  },
  {
   "cell_type": "code",
   "execution_count": 6,
   "metadata": {},
   "outputs": [
    {
     "name": "stdout",
     "output_type": "stream",
     "text": [
      "No path for the capital folder was provided. Capitals will not be endogenized\n",
      "CPU times: user 2min 49s, sys: 5.39 s, total: 2min 54s\n",
      "Wall time: 1min 47s\n"
     ]
    }
   ],
   "source": [
    "%%time\n",
    "lcaio_object = database_loader.combine_ecoinvent_exiobase(complete_extensions=False, \n",
    "                                        impact_world=False, regionalized=False)"
   ]
  },
  {
   "cell_type": "code",
   "execution_count": null,
   "metadata": {},
   "outputs": [],
   "source": []
  },
  {
   "cell_type": "code",
   "execution_count": null,
   "metadata": {},
   "outputs": [],
   "source": [
    "# lcaio_object.aggregate(agg_dic=agg_dic, build_aggregation_matrix_function=build_MultiIndex_Aggregation_Matrix)"
   ]
  },
  {
   "cell_type": "code",
   "execution_count": 7,
   "metadata": {},
   "outputs": [
    {
     "name": "stdout",
     "output_type": "stream",
     "text": [
      "Indentifying Rest of World regions...\n",
      "Updating electricity prices...\n",
      "Calculating productions volumes...\n",
      "Adjusting low production volume processes...\n",
      "Extending inventory...\n",
      "Building H matrix...\n",
      "Building geography concordance...\n",
      "Building geographic conconcordance took 4.729621171951294 seconds\n",
      "Filter H matrix...\n",
      "Build Cut-off matrix...\n",
      "CPU times: user 2min 16s, sys: 11.6 s, total: 2min 28s\n",
      "Wall time: 2min 24s\n"
     ]
    }
   ],
   "source": [
    "%%time\n",
    "lcaio_object.hybridize(price_neutral_cut_off_matrix=False, capitals=False, priceless_scaling=False, calculate_cutoff_variance=False)"
   ]
  },
  {
   "cell_type": "code",
   "execution_count": 8,
   "metadata": {},
   "outputs": [
    {
     "name": "stdout",
     "output_type": "stream",
     "text": [
      "STAM double counting correction being appliedi...\n",
      "... Calculating Lambda Filter Matrix...\n",
      "... Calculating Gamma Filter Matrix...\n",
      "... Calculating Phi Filter Matrix...\n",
      "Correcting cut-off matrices...\n",
      "CPU times: user 7min 17s, sys: 13.4 s, total: 7min 31s\n",
      "Wall time: 5min 20s\n"
     ]
    }
   ],
   "source": [
    "%%time\n",
    "# lcaio_object.variance_flag = False\n",
    "lcaio_object.correct_double_counting('STAM', capitals=False)"
   ]
  },
  {
   "cell_type": "code",
   "execution_count": 10,
   "metadata": {},
   "outputs": [
    {
     "name": "stdout",
     "output_type": "stream",
     "text": [
      "lcaio_object written to\" /home/jakobs/Documents/IndEcol/OASES/Accuracy_vs_precission_HLCA/Databases/plcaio_object_STAM.pickle\n",
      "CPU times: user 4min 58s, sys: 2.42 s, total: 5min\n",
      "Wall time: 5min\n"
     ]
    }
   ],
   "source": [
    "%%time\n",
    "file_name_path = '/home/jakobs/Documents/IndEcol/OASES/Accuracy_vs_precission_HLCA/Databases/plcaio_object_STAM.pickle'\n",
    "with gzip.open(file_name_path, 'wb') as fh:\n",
    "    pickle.dump(lcaio_object, fh)\n",
    "print('lcaio_object written to\" {}'.format(file_name_path))"
   ]
  },
  {
   "cell_type": "code",
   "execution_count": null,
   "metadata": {},
   "outputs": [],
   "source": []
  },
  {
   "cell_type": "code",
   "execution_count": null,
   "metadata": {},
   "outputs": [],
   "source": []
  },
  {
   "cell_type": "code",
   "execution_count": null,
   "metadata": {},
   "outputs": [],
   "source": []
  },
  {
   "cell_type": "code",
   "execution_count": null,
   "metadata": {},
   "outputs": [],
   "source": [
    "# %%time\n",
    "# lcaio_object.correct_double_counting('binary', capitals=False)"
   ]
  },
  {
   "cell_type": "code",
   "execution_count": null,
   "metadata": {},
   "outputs": [],
   "source": []
  },
  {
   "cell_type": "code",
   "execution_count": 9,
   "metadata": {},
   "outputs": [
    {
     "name": "stdout",
     "output_type": "stream",
     "text": [
      "Database saved to /home/jakobs/Documents/IndEcol/OASES/TEST_PYLCAIO/Databases/extend_inventory_fixed-absolute-noise-nulling_2012_STAM\n",
      "Description file saved to /home/jakobs/Documents/IndEcol/OASES/TEST_PYLCAIO/Databases/description_extend_inventory_fixed-absolute-noise-nulling_2012_STAM.txt\n",
      "CPU times: user 22.3 s, sys: 316 ms, total: 22.6 s\n",
      "Wall time: 22.5 s\n"
     ]
    }
   ],
   "source": [
    "%%time\n",
    "lcaio_object.save_system(file_path='/home/jakobs/Documents/IndEcol/OASES/TEST_PYLCAIO/Databases/', file_name='extend_inventory_fixed-absolute-noise-nulling_2012_STAM', format='pickle')"
   ]
  },
  {
   "cell_type": "code",
   "execution_count": null,
   "metadata": {},
   "outputs": [],
   "source": []
  },
  {
   "cell_type": "code",
   "execution_count": null,
   "metadata": {},
   "outputs": [],
   "source": []
  }
 ],
 "metadata": {
  "kernelspec": {
   "display_name": "Python [conda env:pylcaio_paradiso]",
   "language": "python",
   "name": "conda-env-pylcaio_paradiso-py"
  },
  "language_info": {
   "codemirror_mode": {
    "name": "ipython",
    "version": 3
   },
   "file_extension": ".py",
   "mimetype": "text/x-python",
   "name": "python",
   "nbconvert_exporter": "python",
   "pygments_lexer": "ipython3",
   "version": "3.7.3"
  }
 },
 "nbformat": 4,
 "nbformat_minor": 4
}
